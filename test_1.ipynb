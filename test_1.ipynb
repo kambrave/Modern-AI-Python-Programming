{
  "nbformat": 4,
  "nbformat_minor": 0,
  "metadata": {
    "colab": {
      "provenance": [],
      "toc_visible": true,
      "authorship_tag": "ABX9TyMbiCs7pdURXauIbKBiT0Hl",
      "include_colab_link": true
    },
    "kernelspec": {
      "name": "python3",
      "display_name": "Python 3"
    },
    "language_info": {
      "name": "python"
    }
  },
  "cells": [
    {
      "cell_type": "markdown",
      "metadata": {
        "id": "view-in-github",
        "colab_type": "text"
      },
      "source": [
        "<a href=\"https://colab.research.google.com/github/kambrave/Modern-AI-Python-Programming/blob/main/test_1.ipynb\" target=\"_parent\"><img src=\"https://colab.research.google.com/assets/colab-badge.svg\" alt=\"Open In Colab\"/></a>"
      ]
    },
    {
      "cell_type": "code",
      "execution_count": null,
      "metadata": {
        "colab": {
          "base_uri": "https://localhost:8080/"
        },
        "id": "gQBN5OBjFr0S",
        "outputId": "863433a8-88e9-4f6c-98a0-4d4f26515b38"
      },
      "outputs": [
        {
          "output_type": "stream",
          "name": "stdout",
          "text": [
            "Hello World Pakistan Zindabad\n"
          ]
        }
      ],
      "source": [
        "print(\"Hello World Pakistan Zindabad\")"
      ]
    },
    {
      "cell_type": "markdown",
      "source": [
        "# New Section"
      ],
      "metadata": {
        "id": "YijYrWq2n2ZK"
      }
    },
    {
      "cell_type": "markdown",
      "source": [
        "heading 1 *Dil* Dil Paistan"
      ],
      "metadata": {
        "id": "UWV8NgA5HLdm"
      }
    },
    {
      "cell_type": "code",
      "source": [
        "# Define a variable\n",
        "x = 10\n",
        "\n",
        "# Use an if statement with indentation\n",
        "if x > 5:\n",
        "  print(\"x is greater than 5\")\n",
        "  print(\"This line is also part of the if block\")\n",
        "\n",
        "print(\"This line is outside the if block\")"
      ],
      "metadata": {
        "id": "7D77TUe2HSmN",
        "colab": {
          "base_uri": "https://localhost:8080/"
        },
        "outputId": "5991cdda-90ad-418d-85b7-52b30a0b8004"
      },
      "execution_count": null,
      "outputs": [
        {
          "output_type": "stream",
          "name": "stdout",
          "text": [
            "x is greater than 5\n",
            "This line is also part of the if block\n",
            "This line is outside the if block\n"
          ]
        }
      ]
    },
    {
      "cell_type": "code",
      "source": [],
      "metadata": {
        "id": "q_ToaBDiObPU"
      },
      "execution_count": null,
      "outputs": []
    },
    {
      "cell_type": "markdown",
      "source": [
        "  "
      ],
      "metadata": {
        "id": "tqqOWABOHpG-"
      }
    },
    {
      "cell_type": "code",
      "metadata": {
        "colab": {
          "base_uri": "https://localhost:8080/"
        },
        "id": "a825e44a",
        "outputId": "027f435a-067b-4b52-fe39-75927f8c4de0"
      },
      "source": [
        "# Integer data type\n",
        "my_integer = 10\n",
        "print(f\"Value: {my_integer}, Type: {type(my_integer)}\")\n",
        "\n",
        "# Float data type\n",
        "my_float = 3.14\n",
        "print(f\"Value: {my_float}, Type: {type(my_float)}\")\n",
        "\n",
        "# String data type\n",
        "my_string = \"Hello, Pakistan!\"\n",
        "print(f\"Value: {my_string}, Type: {type(my_string)}\")\n",
        "\n",
        "# Boolean data type\n",
        "my_boolean = True\n",
        "print(f\"Value: {my_boolean}, Type: {type(my_boolean)}\")\n",
        "\n",
        "# List data type\n",
        "my_list = [1, 2, 3, \"a\", \"b\"]\n",
        "print(f\"Value: {my_list}, Type: {type(my_list)}\")\n",
        "\n",
        "# Tuple data type\n",
        "my_tuple = (10, 20, 30)\n",
        "print(f\"Value: {my_tuple}, Type: {type(my_tuple)}\")\n",
        "\n",
        "# Dictionary data type\n",
        "my_dictionary = {\"name\": \"Ali\", \"age\": 25}\n",
        "print(f\"Value: {my_dictionary}, Type: {type(my_dictionary)}\")\n",
        "\n",
        "# Set data type\n",
        "my_set = {1, 2, 3, 3, 4} # Sets automatically remove duplicates\n",
        "print(f\"Value: {my_set}, Type: {type(my_set)}\")\n",
        "\n",
        "# NoneType data type\n",
        "my_none = None\n",
        "print(f\"Value: {my_none}, Type: {type(my_none)}\")"
      ],
      "execution_count": null,
      "outputs": [
        {
          "output_type": "stream",
          "name": "stdout",
          "text": [
            "Value: 10, Type: <class 'int'>\n",
            "Value: 3.14, Type: <class 'float'>\n",
            "Value: Hello, Pakistan!, Type: <class 'str'>\n",
            "Value: True, Type: <class 'bool'>\n",
            "Value: [1, 2, 3, 'a', 'b'], Type: <class 'list'>\n",
            "Value: (10, 20, 30), Type: <class 'tuple'>\n",
            "Value: {'name': 'Ali', 'age': 25}, Type: <class 'dict'>\n",
            "Value: {1, 2, 3, 4}, Type: <class 'set'>\n",
            "Value: None, Type: <class 'NoneType'>\n"
          ]
        }
      ]
    },
    {
      "cell_type": "code",
      "metadata": {
        "colab": {
          "base_uri": "https://localhost:8080/"
        },
        "id": "9b33b6ba",
        "outputId": "8d55cbd8-281c-45fe-cc98-26e4360d206c"
      },
      "source": [
        "# List with mixed data types\n",
        "my_mixed_list = [\n",
        "    1,\n",
        "    \"hello\",\n",
        "    True,\n",
        "    [10, 20],\n",
        "    {\"name\": \"Sara\", \"id\": \"123\"}\n",
        "]\n",
        "\n",
        "print(my_mixed_list)\n",
        "print(f\"Type: {type(my_mixed_list)}\")\n",
        "\n",
        "# Accessing elements\n",
        "print(f\"Second element: {my_mixed_list[1]}\")\n",
        "print(f\"First element of the nested list: {my_mixed_list[3][0]}\")\n",
        "print(f\"Name from the nested dictionary: {my_mixed_list[4]['name']}\")"
      ],
      "execution_count": null,
      "outputs": [
        {
          "output_type": "stream",
          "name": "stdout",
          "text": [
            "[1, 'hello', True, [10, 20], {'name': 'Sara', 'id': '123'}]\n",
            "Type: <class 'list'>\n",
            "Second element: hello\n",
            "First element of the nested list: 10\n",
            "Name from the nested dictionary: Sara\n"
          ]
        }
      ]
    },
    {
      "cell_type": "code",
      "metadata": {
        "colab": {
          "base_uri": "https://localhost:8080/"
        },
        "id": "60de60dd",
        "outputId": "6b0e0c90-2927-42e2-b6f0-f52e167d58cd"
      },
      "source": [
        "# Complex number example\n",
        "my_complex_number = 3 + 4j\n",
        "\n",
        "print(my_complex_number)\n",
        "print(f\"Type: {type(my_complex_number)}\")\n",
        "\n",
        "# Accessing real and imaginary parts\n",
        "print(f\"Real part: {my_complex_number.real}\")\n",
        "print(f\"Imaginary part: {my_complex_number.imag}\")"
      ],
      "execution_count": null,
      "outputs": [
        {
          "output_type": "stream",
          "name": "stdout",
          "text": [
            "(3+4j)\n",
            "Type: <class 'complex'>\n",
            "Real part: 3.0\n",
            "Imaginary part: 4.0\n"
          ]
        }
      ]
    }
  ]
}