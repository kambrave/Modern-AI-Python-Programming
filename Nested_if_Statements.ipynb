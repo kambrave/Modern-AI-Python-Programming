{
  "nbformat": 4,
  "nbformat_minor": 0,
  "metadata": {
    "colab": {
      "provenance": [],
      "authorship_tag": "ABX9TyO7hoGfVIkHaE+/FbEb80M8",
      "include_colab_link": true
    },
    "kernelspec": {
      "name": "python3",
      "display_name": "Python 3"
    },
    "language_info": {
      "name": "python"
    }
  },
  "cells": [
    {
      "cell_type": "markdown",
      "metadata": {
        "id": "view-in-github",
        "colab_type": "text"
      },
      "source": [
        "<a href=\"https://colab.research.google.com/github/kambrave/Modern-AI-Python-Programming/blob/main/Nested_if_Statements.ipynb\" target=\"_parent\"><img src=\"https://colab.research.google.com/assets/colab-badge.svg\" alt=\"Open In Colab\"/></a>"
      ]
    },
    {
      "cell_type": "code",
      "execution_count": null,
      "metadata": {
        "id": "76rYiMKY1q1h"
      },
      "outputs": [],
      "source": []
    },
    {
      "cell_type": "code",
      "metadata": {
        "colab": {
          "base_uri": "https://localhost:8080/"
        },
        "id": "e88461a6",
        "outputId": "f6a60d10-5111-4d25-e024-f7b066e57282"
      },
      "source": [
        "x = 10\n",
        "y = 5\n",
        "\n",
        "if x > 0:\n",
        "    print(\"x is positive\")\n",
        "    if y > 0:\n",
        "        print(\"y is also positive\")\n",
        "    else:\n",
        "        print(\"y is not positive\")\n",
        "else:\n",
        "    print(\"x is not positive\")"
      ],
      "execution_count": 1,
      "outputs": [
        {
          "output_type": "stream",
          "name": "stdout",
          "text": [
            "x is positive\n",
            "y is also positive\n"
          ]
        }
      ]
    },
    {
      "cell_type": "code",
      "metadata": {
        "colab": {
          "base_uri": "https://localhost:8080/"
        },
        "id": "c7070f71",
        "outputId": "b52f1a8e-d82e-41b4-bcfd-cb42a1b85186"
      },
      "source": [
        "# Arithmetic operators\n",
        "a = 10\n",
        "b = 3\n",
        "print(f\"a + b = {a + b}\")\n",
        "print(f\"a - b = {a - b}\")\n",
        "print(f\"a * b = {a * b}\")\n",
        "print(f\"a / b = {a / b}\")\n",
        "print(f\"a % b = {a % b}\")\n",
        "print(f\"a // b = {a // b}\")\n",
        "print(f\"a ** b = {a ** b}\")\n",
        "\n",
        "# Comparison operators\n",
        "x = 10\n",
        "y = 12\n",
        "print(f\"x > y is {x > y}\")\n",
        "print(f\"x < y is {x < y}\")\n",
        "print(f\"x == y is {x == y}\")\n",
        "print(f\"x != y is {x != y}\")\n",
        "print(f\"x >= y is {x >= y}\")\n",
        "print(f\"x <= y is {x <= y}\")\n",
        "\n",
        "# Logical operators\n",
        "p = True\n",
        "q = False\n",
        "print(f\"p and q is {p and q}\")\n",
        "print(f\"p or q is {p or q}\")\n",
        "print(f\"not p is {not p}\")\n",
        "\n",
        "# Assignment operators\n",
        "c = 10\n",
        "c += 5\n",
        "print(f\"c after c += 5 is {c}\")\n",
        "\n",
        "# Bitwise operators\n",
        "m = 10 # Binary: 1010\n",
        "n = 4  # Binary: 0100\n",
        "print(f\"m & n = {m & n}\")\n",
        "print(f\"m | n = {m | n}\")\n",
        "print(f\"m ^ n = {m ^ n}\")\n",
        "print(f\"~m = {~m}\")\n",
        "print(f\"m << 2 = {m << 2}\")\n",
        "print(f\"m >> 2 = {m >> 2}\")"
      ],
      "execution_count": 2,
      "outputs": [
        {
          "output_type": "stream",
          "name": "stdout",
          "text": [
            "a + b = 13\n",
            "a - b = 7\n",
            "a * b = 30\n",
            "a / b = 3.3333333333333335\n",
            "a % b = 1\n",
            "a // b = 3\n",
            "a ** b = 1000\n",
            "x > y is False\n",
            "x < y is True\n",
            "x == y is False\n",
            "x != y is True\n",
            "x >= y is False\n",
            "x <= y is True\n",
            "p and q is False\n",
            "p or q is True\n",
            "not p is False\n",
            "c after c += 5 is 15\n",
            "m & n = 0\n",
            "m | n = 14\n",
            "m ^ n = 14\n",
            "~m = -11\n",
            "m << 2 = 40\n",
            "m >> 2 = 2\n"
          ]
        }
      ]
    }
  ]
}