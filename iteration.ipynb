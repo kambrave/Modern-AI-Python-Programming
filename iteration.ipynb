{
  "nbformat": 4,
  "nbformat_minor": 0,
  "metadata": {
    "colab": {
      "provenance": [],
      "toc_visible": true,
      "authorship_tag": "ABX9TyNHLG75VH8/O1CnV2Umk4Ne",
      "include_colab_link": true
    },
    "kernelspec": {
      "name": "python3",
      "display_name": "Python 3"
    },
    "language_info": {
      "name": "python"
    }
  },
  "cells": [
    {
      "cell_type": "markdown",
      "metadata": {
        "id": "view-in-github",
        "colab_type": "text"
      },
      "source": [
        "<a href=\"https://colab.research.google.com/github/kambrave/Modern-AI-Python-Programming/blob/main/iteration.ipynb\" target=\"_parent\"><img src=\"https://colab.research.google.com/assets/colab-badge.svg\" alt=\"Open In Colab\"/></a>"
      ]
    },
    {
      "cell_type": "code",
      "execution_count": 1,
      "metadata": {
        "id": "krvbcWBHo6H5",
        "colab": {
          "base_uri": "https://localhost:8080/"
        },
        "outputId": "a4d91bf2-b249-400b-f0e3-24c3e37048bd"
      },
      "outputs": [
        {
          "output_type": "stream",
          "name": "stdout",
          "text": [
            "Iterating through a list:\n",
            "1\n",
            "2\n",
            "3\n",
            "4\n",
            "5\n",
            "\n",
            "Iterating through a tuple:\n",
            "10\n",
            "20\n",
            "30\n",
            "40\n",
            "50\n"
          ]
        }
      ],
      "source": [
        "# Example of list iteration\n",
        "my_list = [1, 2, 3, 4, 5]\n",
        "print(\"Iterating through a list:\")\n",
        "for item in my_list:\n",
        "  print(item)\n",
        "\n",
        "# Example of tuple iteration\n",
        "my_tuple = (10, 20, 30, 40, 50)\n",
        "print(\"\\nIterating through a tuple:\")\n",
        "for item in my_tuple:\n",
        "  print(item)"
      ]
    },
    {
      "cell_type": "code",
      "metadata": {
        "colab": {
          "base_uri": "https://localhost:8080/"
        },
        "id": "2ba5a499",
        "outputId": "5a99c1d1-4c41-4de4-8f31-533d36aea413"
      },
      "source": [
        "# Example of finding a value in a list\n",
        "my_list = [1, 2, 3, 4, 5]\n",
        "value_to_find = 3\n",
        "\n",
        "if value_to_find in my_list:\n",
        "  print(f\"Value {value_to_find} found in the list.\")\n",
        "else:\n",
        "  print(f\"Value {value_to_find} not found in the list.\")\n",
        "\n",
        "# Example using index() (raises ValueError if not found)\n",
        "try:\n",
        "  index_in_list = my_list.index(value_to_find)\n",
        "  print(f\"Value {value_to_find} found at index {index_in_list} in the list.\")\n",
        "except ValueError:\n",
        "  print(f\"Value {value_to_find} not found in the list using index().\")"
      ],
      "execution_count": 2,
      "outputs": [
        {
          "output_type": "stream",
          "name": "stdout",
          "text": [
            "Value 3 found in the list.\n",
            "Value 3 found at index 2 in the list.\n"
          ]
        }
      ]
    },
    {
      "cell_type": "code",
      "metadata": {
        "colab": {
          "base_uri": "https://localhost:8080/"
        },
        "id": "29b0351a",
        "outputId": "7f7b7297-7dcf-4137-9045-e6bc94831c59"
      },
      "source": [
        "# Example of finding a value in a tuple\n",
        "my_tuple = (10, 20, 30, 40, 50)\n",
        "value_to_find = 30\n",
        "\n",
        "if value_to_find in my_tuple:\n",
        "  print(f\"Value {value_to_find} found in the tuple.\")\n",
        "else:\n",
        "  print(f\"Value {value_to_find} not found in the tuple.\")\n",
        "\n",
        "# Example using index() (raises ValueError if not found)\n",
        "try:\n",
        "  index_in_tuple = my_tuple.index(value_to_find)\n",
        "  print(f\"Value {value_to_find} found at index {index_in_tuple} in the tuple.\")\n",
        "except ValueError:\n",
        "  print(f\"Value {value_to_find} not found in the tuple using index().\")"
      ],
      "execution_count": 3,
      "outputs": [
        {
          "output_type": "stream",
          "name": "stdout",
          "text": [
            "Value 30 found in the tuple.\n",
            "Value 30 found at index 2 in the tuple.\n"
          ]
        }
      ]
    }
  ]
}