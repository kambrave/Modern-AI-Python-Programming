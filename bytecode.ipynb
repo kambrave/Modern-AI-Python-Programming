{
  "nbformat": 4,
  "nbformat_minor": 0,
  "metadata": {
    "colab": {
      "provenance": [],
      "authorship_tag": "ABX9TyNvmmHLu4UXj8yR8GdgX2Mo",
      "include_colab_link": true
    },
    "kernelspec": {
      "name": "python3",
      "display_name": "Python 3"
    },
    "language_info": {
      "name": "python"
    }
  },
  "cells": [
    {
      "cell_type": "markdown",
      "metadata": {
        "id": "view-in-github",
        "colab_type": "text"
      },
      "source": [
        "<a href=\"https://colab.research.google.com/github/kambrave/Modern-AI-Python-Programming/blob/main/bytecode.ipynb\" target=\"_parent\"><img src=\"https://colab.research.google.com/assets/colab-badge.svg\" alt=\"Open In Colab\"/></a>"
      ]
    },
    {
      "cell_type": "code",
      "execution_count": 1,
      "metadata": {
        "colab": {
          "base_uri": "https://localhost:8080/"
        },
        "id": "ywvZkIYix_Jf",
        "outputId": "90e97c7a-70d8-4b0d-ac20-3fb6be5b28b6"
      },
      "outputs": [
        {
          "output_type": "stream",
          "name": "stdout",
          "text": [
            "Hello, my name is Arif Rozani and I am 20 years old.\n"
          ]
        }
      ],
      "source": [
        "class Person: # Class Person (source code/blue print of an object at runtime)\n",
        "    def __init__(self, name: str, age: int): # initilizer or constructor which is responsible to create Object in memory at runtime\n",
        "        self.name = name           # Pereson attibute\n",
        "        self.age = age             # Pereson attibute\n",
        "\n",
        "    def greet(self): # Person Class method greet()\n",
        "        print(f\"Hello, my name is {self.name} and I am {self.age} years old.\") # Print/Output to console/terminal\n",
        "\n",
        "# Lets create a Person object in memory\n",
        "person: Person = Person(\"Arif Rozani\", 20)\n",
        "\n",
        "person.greet() # Lets call Person Object's greet method"
      ]
    },
    {
      "cell_type": "code",
      "source": [
        "import dis\n",
        "dis.dis(Person)"
      ],
      "metadata": {
        "colab": {
          "base_uri": "https://localhost:8080/"
        },
        "id": "IMSFwrWfyR1N",
        "outputId": "7dbe62b2-b8d1-4a66-e31b-b230623a1e2e"
      },
      "execution_count": 2,
      "outputs": [
        {
          "output_type": "stream",
          "name": "stdout",
          "text": [
            "Disassembly of __init__:\n",
            "  2           0 RESUME                   0\n",
            "\n",
            "  3           2 LOAD_FAST                1 (name)\n",
            "              4 LOAD_FAST                0 (self)\n",
            "              6 STORE_ATTR               0 (name)\n",
            "\n",
            "  4          16 LOAD_FAST                2 (age)\n",
            "             18 LOAD_FAST                0 (self)\n",
            "             20 STORE_ATTR               1 (age)\n",
            "             30 LOAD_CONST               0 (None)\n",
            "             32 RETURN_VALUE\n",
            "\n",
            "Disassembly of greet:\n",
            "  6           0 RESUME                   0\n",
            "\n",
            "  7           2 LOAD_GLOBAL              1 (NULL + print)\n",
            "             14 LOAD_CONST               1 ('Hello, my name is ')\n",
            "             16 LOAD_FAST                0 (self)\n",
            "             18 LOAD_ATTR                1 (name)\n",
            "             28 FORMAT_VALUE             0\n",
            "             30 LOAD_CONST               2 (' and I am ')\n",
            "             32 LOAD_FAST                0 (self)\n",
            "             34 LOAD_ATTR                2 (age)\n",
            "             44 FORMAT_VALUE             0\n",
            "             46 LOAD_CONST               3 (' years old.')\n",
            "             48 BUILD_STRING             5\n",
            "             50 PRECALL                  1\n",
            "             54 CALL                     1\n",
            "             64 POP_TOP\n",
            "             66 LOAD_CONST               0 (None)\n",
            "             68 RETURN_VALUE\n",
            "\n"
          ]
        }
      ]
    },
    {
      "source": [
        "def my_function():\n",
        "    if True:\n",
        "        print(\"This is indented with 4 spaces\")\n",
        "    else:\n",
        "        print(\"This is also indented with 4 spaces\")\n",
        "\n",
        "class MyClass:\n",
        "    def __init__(self):\n",
        "        pass\n",
        "\n",
        "    def my_method(self):\n",
        "        for i in range(5):\n",
        "            print(i)\n",
        "\n",
        "my_function()\n",
        "my_class = MyClass()\n",
        "my_class.my_method()"
      ],
      "cell_type": "code",
      "metadata": {
        "colab": {
          "base_uri": "https://localhost:8080/"
        },
        "id": "Neycd3KIy59z",
        "outputId": "a2e4b16f-dd92-47c2-c255-ff51f2810347"
      },
      "execution_count": 6,
      "outputs": [
        {
          "output_type": "stream",
          "name": "stdout",
          "text": [
            "This is indented with 4 spaces\n",
            "0\n",
            "1\n",
            "2\n",
            "3\n",
            "4\n"
          ]
        }
      ]
    }
  ]
}